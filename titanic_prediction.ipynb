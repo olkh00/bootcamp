{
 "cells": [
  {
   "cell_type": "code",
   "execution_count": 2,
   "id": "cf29c262-033c-4958-b0d6-8f5a195017d8",
   "metadata": {},
   "outputs": [],
   "source": [
    "import pandas as pd\n",
    "from sklearn.tree import DecisionTreeClassifier, plot_tree\n",
    "from sklearn.preprocessing import LabelEncoder, OrdinalEncoder, OneHotEncoder\n",
    "from sklearn.metrics import accuracy_score\n",
    "import matplotlib.pyplot as plt\n",
    "import re"
   ]
  },
  {
   "cell_type": "code",
   "execution_count": 3,
   "id": "9dfe15c4-91ef-4242-a0bc-be72484fb703",
   "metadata": {},
   "outputs": [],
   "source": [
    "from sklearn.ensemble import RandomForestClassifier"
   ]
  },
  {
   "cell_type": "code",
   "execution_count": 4,
   "id": "93f4f002-6e20-4cda-a04a-2f4c07eeda17",
   "metadata": {},
   "outputs": [],
   "source": [
    "df = pd.read_csv(\"titanic/train.csv\")"
   ]
  },
  {
   "cell_type": "code",
   "execution_count": 5,
   "id": "bb8ea602-e0d4-4fc2-b0e6-342f13990e05",
   "metadata": {},
   "outputs": [],
   "source": [
    "df_test = pd.read_csv(\"titanic/test.csv\")"
   ]
  },
  {
   "cell_type": "code",
   "execution_count": 6,
   "id": "1b499e2b-1de0-4b6f-acb7-e49b42e3f772",
   "metadata": {},
   "outputs": [
    {
     "data": {
      "text/html": [
       "<div>\n",
       "<style scoped>\n",
       "    .dataframe tbody tr th:only-of-type {\n",
       "        vertical-align: middle;\n",
       "    }\n",
       "\n",
       "    .dataframe tbody tr th {\n",
       "        vertical-align: top;\n",
       "    }\n",
       "\n",
       "    .dataframe thead th {\n",
       "        text-align: right;\n",
       "    }\n",
       "</style>\n",
       "<table border=\"1\" class=\"dataframe\">\n",
       "  <thead>\n",
       "    <tr style=\"text-align: right;\">\n",
       "      <th></th>\n",
       "      <th>PassengerId</th>\n",
       "      <th>Survived</th>\n",
       "      <th>Pclass</th>\n",
       "      <th>Name</th>\n",
       "      <th>Sex</th>\n",
       "      <th>Age</th>\n",
       "      <th>SibSp</th>\n",
       "      <th>Parch</th>\n",
       "      <th>Ticket</th>\n",
       "      <th>Fare</th>\n",
       "      <th>Cabin</th>\n",
       "      <th>Embarked</th>\n",
       "    </tr>\n",
       "  </thead>\n",
       "  <tbody>\n",
       "    <tr>\n",
       "      <th>0</th>\n",
       "      <td>1</td>\n",
       "      <td>0</td>\n",
       "      <td>3</td>\n",
       "      <td>Braund, Mr. Owen Harris</td>\n",
       "      <td>male</td>\n",
       "      <td>22.0</td>\n",
       "      <td>1</td>\n",
       "      <td>0</td>\n",
       "      <td>A/5 21171</td>\n",
       "      <td>7.2500</td>\n",
       "      <td>NaN</td>\n",
       "      <td>S</td>\n",
       "    </tr>\n",
       "    <tr>\n",
       "      <th>1</th>\n",
       "      <td>2</td>\n",
       "      <td>1</td>\n",
       "      <td>1</td>\n",
       "      <td>Cumings, Mrs. John Bradley (Florence Briggs Th...</td>\n",
       "      <td>female</td>\n",
       "      <td>38.0</td>\n",
       "      <td>1</td>\n",
       "      <td>0</td>\n",
       "      <td>PC 17599</td>\n",
       "      <td>71.2833</td>\n",
       "      <td>C85</td>\n",
       "      <td>C</td>\n",
       "    </tr>\n",
       "    <tr>\n",
       "      <th>2</th>\n",
       "      <td>3</td>\n",
       "      <td>1</td>\n",
       "      <td>3</td>\n",
       "      <td>Heikkinen, Miss. Laina</td>\n",
       "      <td>female</td>\n",
       "      <td>26.0</td>\n",
       "      <td>0</td>\n",
       "      <td>0</td>\n",
       "      <td>STON/O2. 3101282</td>\n",
       "      <td>7.9250</td>\n",
       "      <td>NaN</td>\n",
       "      <td>S</td>\n",
       "    </tr>\n",
       "    <tr>\n",
       "      <th>3</th>\n",
       "      <td>4</td>\n",
       "      <td>1</td>\n",
       "      <td>1</td>\n",
       "      <td>Futrelle, Mrs. Jacques Heath (Lily May Peel)</td>\n",
       "      <td>female</td>\n",
       "      <td>35.0</td>\n",
       "      <td>1</td>\n",
       "      <td>0</td>\n",
       "      <td>113803</td>\n",
       "      <td>53.1000</td>\n",
       "      <td>C123</td>\n",
       "      <td>S</td>\n",
       "    </tr>\n",
       "    <tr>\n",
       "      <th>4</th>\n",
       "      <td>5</td>\n",
       "      <td>0</td>\n",
       "      <td>3</td>\n",
       "      <td>Allen, Mr. William Henry</td>\n",
       "      <td>male</td>\n",
       "      <td>35.0</td>\n",
       "      <td>0</td>\n",
       "      <td>0</td>\n",
       "      <td>373450</td>\n",
       "      <td>8.0500</td>\n",
       "      <td>NaN</td>\n",
       "      <td>S</td>\n",
       "    </tr>\n",
       "  </tbody>\n",
       "</table>\n",
       "</div>"
      ],
      "text/plain": [
       "   PassengerId  Survived  Pclass  \\\n",
       "0            1         0       3   \n",
       "1            2         1       1   \n",
       "2            3         1       3   \n",
       "3            4         1       1   \n",
       "4            5         0       3   \n",
       "\n",
       "                                                Name     Sex   Age  SibSp  \\\n",
       "0                            Braund, Mr. Owen Harris    male  22.0      1   \n",
       "1  Cumings, Mrs. John Bradley (Florence Briggs Th...  female  38.0      1   \n",
       "2                             Heikkinen, Miss. Laina  female  26.0      0   \n",
       "3       Futrelle, Mrs. Jacques Heath (Lily May Peel)  female  35.0      1   \n",
       "4                           Allen, Mr. William Henry    male  35.0      0   \n",
       "\n",
       "   Parch            Ticket     Fare Cabin Embarked  \n",
       "0      0         A/5 21171   7.2500   NaN        S  \n",
       "1      0          PC 17599  71.2833   C85        C  \n",
       "2      0  STON/O2. 3101282   7.9250   NaN        S  \n",
       "3      0            113803  53.1000  C123        S  \n",
       "4      0            373450   8.0500   NaN        S  "
      ]
     },
     "execution_count": 6,
     "metadata": {},
     "output_type": "execute_result"
    }
   ],
   "source": [
    "df.head()"
   ]
  },
  {
   "cell_type": "code",
   "execution_count": 7,
   "id": "6f445b9b-7aab-490a-995d-ef82cd38f156",
   "metadata": {},
   "outputs": [],
   "source": [
    "label_encoder = LabelEncoder()\n",
    "ordinal_encoder = OrdinalEncoder()\n",
    "one_hot_encoder = OneHotEncoder()"
   ]
  },
  {
   "cell_type": "code",
   "execution_count": 8,
   "id": "f0daa52a-d121-4af9-8c62-6c8c880c062f",
   "metadata": {},
   "outputs": [],
   "source": [
    "df[['Sex']] = ordinal_encoder.fit_transform(df[['Sex']])"
   ]
  },
  {
   "cell_type": "code",
   "execution_count": null,
   "id": "5cf8d1bc-d07f-4a18-bbe9-a406eb3deae6",
   "metadata": {},
   "outputs": [],
   "source": [
    "cabin_not_known = df[df['Cabin'].isnull()]"
   ]
  },
  {
   "cell_type": "code",
   "execution_count": null,
   "id": "fa375ede-a7bf-463b-a35f-77a5d96da990",
   "metadata": {},
   "outputs": [],
   "source": [
    "cabin_not_known['Survived'].mean()"
   ]
  },
  {
   "cell_type": "markdown",
   "id": "ca95686b-d621-4361-b14f-722b419229aa",
   "metadata": {},
   "source": [
    "There is a clear difference in survival rate between passengers whose cabin is known, and those who are not. We should encode this data."
   ]
  },
  {
   "cell_type": "code",
   "execution_count": null,
   "id": "af5f035b-1ba9-43c1-a3ec-6666ccb89770",
   "metadata": {},
   "outputs": [],
   "source": [
    "df = df.rename(columns={'Cabin':'Cabin Known'})\n",
    "\n",
    "df.loc[df['Cabin Known'].isnull(),'Cabin Known']=0\n",
    "\n",
    "df.loc[df['Cabin Known'] != 0,'Cabin Known'] = 1"
   ]
  },
  {
   "cell_type": "markdown",
   "id": "d5455184-bcdf-426c-a5de-ca8254904c8f",
   "metadata": {},
   "source": [
    "Dropping null values in the 'age' column would result in losing a significant portion of our passengers who have a title, which we have already decided is a significant factor in their survival chances. Therefore we will impute the missing values. A boxplot will help us decide how to do this:"
   ]
  },
  {
   "cell_type": "code",
   "execution_count": null,
   "id": "fc53a334-79fc-4b0d-97d5-cf74b93c98fe",
   "metadata": {},
   "outputs": [],
   "source": [
    "import seaborn as sns"
   ]
  },
  {
   "cell_type": "code",
   "execution_count": null,
   "id": "1a9082ca-400c-406d-93df-c7aedfd02ea7",
   "metadata": {},
   "outputs": [],
   "source": [
    "sns.boxplot(x = df['Age'])"
   ]
  },
  {
   "cell_type": "markdown",
   "id": "9504bd8b-52ab-490e-abd3-8970d3cf9590",
   "metadata": {},
   "source": [
    "The distribution of age seems to be quite right-skewed, with a longer whisker on the right side and several outliers. Therefore, using the median value to impute is probably more appropriate than using mean."
   ]
  },
  {
   "cell_type": "code",
   "execution_count": null,
   "id": "7da76b33-1cfa-42d8-8e98-d1051d5fb7d1",
   "metadata": {},
   "outputs": [],
   "source": [
    "df.info()"
   ]
  },
  {
   "cell_type": "code",
   "execution_count": null,
   "id": "a65d3de0-c5d2-4b19-a101-044e3965e90f",
   "metadata": {},
   "outputs": [],
   "source": [
    "df['Age'] = df['Age'].fillna(df['Age'].median())"
   ]
  },
  {
   "cell_type": "code",
   "execution_count": null,
   "id": "5d005d03-d530-40b7-bf6c-69d168d69cd5",
   "metadata": {},
   "outputs": [],
   "source": [
    "df.info()"
   ]
  },
  {
   "cell_type": "markdown",
   "id": "0cca8bd2-97ac-4972-b606-00617bc57224",
   "metadata": {},
   "source": [
    "We have imputed 177 values in the age column"
   ]
  },
  {
   "cell_type": "markdown",
   "id": "a79ceb99-d6d6-4ffe-b28c-3fd1618f22e6",
   "metadata": {},
   "source": [
    "The only null values left in our data are two in embarking point. We will impute those with the mode, since that field is categorical."
   ]
  },
  {
   "cell_type": "code",
   "execution_count": null,
   "id": "ff8a5b51-aea6-41d2-bcb2-746702d66acb",
   "metadata": {},
   "outputs": [],
   "source": [
    "df['Embarked'] = df['Embarked'].fillna(df['Embarked'].mode())"
   ]
  },
  {
   "cell_type": "code",
   "execution_count": null,
   "id": "42f43e2e-d518-404b-ab4a-352b3ee73327",
   "metadata": {},
   "outputs": [],
   "source": [
    "df.head()"
   ]
  },
  {
   "cell_type": "markdown",
   "id": "87471eb7-4bcb-411c-a8e6-e99cf2c0aa77",
   "metadata": {},
   "source": [
    "We still need to encode our 'Embarked' column, and do something with the 'Ticket' column."
   ]
  },
  {
   "cell_type": "code",
   "execution_count": null,
   "id": "bc45f3e9-648b-4899-a480-487e1dd5c68a",
   "metadata": {},
   "outputs": [],
   "source": [
    "df['Embarked'] = label_encoder.fit_transform(df['Embarked'])"
   ]
  },
  {
   "cell_type": "code",
   "execution_count": null,
   "id": "bf78a581-fbf1-4c60-93e9-cf5a549e6fdc",
   "metadata": {},
   "outputs": [],
   "source": [
    "#Function to get rid of any prefixes (eg \"A/5\" in the Ticket column\n",
    "def ticket_number(x: str) -> int:\n",
    "    return x.split()[-1]"
   ]
  },
  {
   "cell_type": "code",
   "execution_count": null,
   "id": "e75473f5-1a3c-4c25-a6e5-dccc97c51325",
   "metadata": {},
   "outputs": [],
   "source": [
    "df['Ticket Number'] = ticket_number(str(df['Ticket']))"
   ]
  },
  {
   "cell_type": "code",
   "execution_count": null,
   "id": "539e1a92-60bc-492c-a22a-9881874b5642",
   "metadata": {},
   "outputs": [],
   "source": []
  },
  {
   "cell_type": "markdown",
   "id": "0e2b2299-b34a-405f-b49f-118942c5c5b4",
   "metadata": {},
   "source": [
    "Encoding test data in the same manner as the train data:"
   ]
  },
  {
   "cell_type": "code",
   "execution_count": null,
   "id": "aa4b343c-5dac-4e07-8dc7-54152ce2b24d",
   "metadata": {},
   "outputs": [],
   "source": [
    "df_test[['Sex']] = ordinal_encoder.fit_transform(df_test[['Sex']])\n",
    "\n",
    "#Extract passenger titles from the name column\n",
    "df_test['Title'] = df_test.Name.str.extract(r' (\\S+\\.)')\n",
    "df_test['Title'] = label_encoder.fit_transform(df_test['Title'])\n",
    "\n",
    "df_test = df_test.rename(columns={'Cabin':'Cabin Known'})\n",
    "df_test.loc[df_test['Cabin Known'].isnull(),'Cabin Known']=0\n",
    "df_test.loc[df_test['Cabin Known'] != 0,'Cabin Known'] = 1\n",
    "\n",
    "df_test['Embarked'] = label_encoder.fit_transform(df_test['Embarked'])"
   ]
  },
  {
   "cell_type": "code",
   "execution_count": null,
   "id": "3033182f-413b-443c-a136-93b2b86a968e",
   "metadata": {},
   "outputs": [],
   "source": [
    "y = df['Survived']\n",
    "features = ['Pclass','Sex','Age','SibSp','Parch','Fare','Cabin Known','Embarked','Title']\n",
    "X = pd.get_dummies(df[features])\n",
    "X_test = pd.get_dummies(df_test[features])\n",
    "\n",
    "model = RandomForestClassifier(n_estimators=100, max_depth=5, random_state=42)\n",
    "model.fit(X, y)\n",
    "predictions = model.predict(X_test)\n",
    "\n",
    "output = pd.DataFrame({'PassengerId': df_test.PassengerId, 'Survived': predictions})\n",
    "output.to_csv('submission_3.csv', index=False)\n",
    "print(\"Your submission was successfully saved!\")"
   ]
  },
  {
   "cell_type": "code",
   "execution_count": null,
   "id": "75ec55ef-2d8a-4fe4-b1ab-323c70fb2f50",
   "metadata": {},
   "outputs": [],
   "source": []
  }
 ],
 "metadata": {
  "kernelspec": {
   "display_name": "Python 3 (ipykernel)",
   "language": "python",
   "name": "python3"
  },
  "language_info": {
   "codemirror_mode": {
    "name": "ipython",
    "version": 3
   },
   "file_extension": ".py",
   "mimetype": "text/x-python",
   "name": "python",
   "nbconvert_exporter": "python",
   "pygments_lexer": "ipython3",
   "version": "3.12.3"
  }
 },
 "nbformat": 4,
 "nbformat_minor": 5
}
